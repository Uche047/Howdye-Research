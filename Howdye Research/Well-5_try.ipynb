{
 "cells": [
  {
   "cell_type": "code",
   "execution_count": 1,
   "id": "c3bb0ae9-48d1-4a21-9c5c-d4b45ef6c544",
   "metadata": {},
   "outputs": [],
   "source": [
    "#!/usr/bin/env python"
   ]
  },
  {
   "cell_type": "code",
   "execution_count": 2,
   "id": "7abfc583",
   "metadata": {},
   "outputs": [],
   "source": [
    "import lasio as ls\n",
    "import openpyxl\n",
    "import numpy as np\n",
    "import matplotlib.pyplot as plt\n",
    "import pandas as pd\n",
    "from sklearn.preprocessing import StandardScaler\n",
    "import pandas as pd\n",
    "import sys\n",
    "\n",
    "from pathlib import Path\n",
    "from scipy.interpolate import interp1d\n",
    "\n",
    "\n"
   ]
  },
  {
   "cell_type": "code",
   "execution_count": 3,
   "id": "a68ba5f9",
   "metadata": {},
   "outputs": [],
   "source": [
    "get_ipython().run_line_magic('matplotlib', 'notebook')"
   ]
  },
  {
   "cell_type": "code",
   "execution_count": 4,
   "id": "71a235ff",
   "metadata": {},
   "outputs": [],
   "source": [
    "%matplotlib inline"
   ]
  },
  {
   "cell_type": "code",
   "execution_count": 5,
   "id": "41d97a6a",
   "metadata": {},
   "outputs": [],
   "source": [
    "well_5 = ls.read(\"C:\\\\Users\\\\DELL\\\\Documents\\\\Geo-python\\\\Howdye Research\\\\Wabi-05.las\")"
   ]
  },
  {
   "cell_type": "code",
   "execution_count": 6,
   "id": "f24c3a77",
   "metadata": {},
   "outputs": [],
   "source": [
    "well_5.get_curve('SFLU_LCD_1')"
   ]
  },
  {
   "cell_type": "code",
   "execution_count": 7,
   "id": "c7bb764e",
   "metadata": {},
   "outputs": [],
   "source": [
    "#keys = well_5.keys()\n"
   ]
  },
  {
   "cell_type": "code",
   "execution_count": 8,
   "id": "9b4bcce3",
   "metadata": {},
   "outputs": [],
   "source": [
    "import math"
   ]
  },
  {
   "cell_type": "code",
   "execution_count": 9,
   "id": "529a185f",
   "metadata": {},
   "outputs": [],
   "source": [
    "#myKeys = ['MD','GR_1','SWT_1']"
   ]
  },
  {
   "cell_type": "code",
   "execution_count": 10,
   "id": "29058669",
   "metadata": {},
   "outputs": [],
   "source": [
    "df_5 = well_5.df().reset_index()\n"
   ]
  },
  {
   "cell_type": "code",
   "execution_count": 11,
   "id": "23466ddc",
   "metadata": {},
   "outputs": [
    {
     "data": {
      "text/plain": [
       "RangeIndex(start=0, stop=182544, step=1)"
      ]
     },
     "execution_count": 11,
     "metadata": {},
     "output_type": "execute_result"
    }
   ],
   "source": [
    "df_5.index"
   ]
  },
  {
   "cell_type": "code",
   "execution_count": 12,
   "id": "ae561f26",
   "metadata": {},
   "outputs": [
    {
     "data": {
      "text/plain": [
       "MD                              0\n",
       "AHT10_3                     53191\n",
       "AHT20_1                     49807\n",
       "AHT30_1                     49807\n",
       "AHT60_1                     49807\n",
       "                            ...  \n",
       "VPVS_1                      52236\n",
       "WAV-RICKER_25HZ_ROT0_1_1     2595\n",
       "WAV-RICKER_25HZ_ROT0_1_2     2595\n",
       "ZOEP-REFL-EI-0_1             2575\n",
       "ZOEP-REFL-EI-30_1           49908\n",
       "Length: 133, dtype: int64"
      ]
     },
     "execution_count": 12,
     "metadata": {},
     "output_type": "execute_result"
    }
   ],
   "source": [
    "df_5.isnull().sum()"
   ]
  },
  {
   "cell_type": "code",
   "execution_count": 13,
   "id": "557751bd",
   "metadata": {},
   "outputs": [],
   "source": [
    "df_5_relevant = df_5[['MD','GR_1','LCD_SWE_1','LCD_SWT_1','DTCO_1','SWT_1','TVDSS_1','PHIE_1', \n",
    "         'PHIT_1','AHT20_1', 'AHT30_1', 'AHT60_1', 'AHT90_1','AHT90_3','VCL_1']]"
   ]
  },
  {
   "cell_type": "code",
   "execution_count": 14,
   "id": "1e6add52",
   "metadata": {},
   "outputs": [
    {
     "data": {
      "text/html": [
       "<div>\n",
       "<style scoped>\n",
       "    .dataframe tbody tr th:only-of-type {\n",
       "        vertical-align: middle;\n",
       "    }\n",
       "\n",
       "    .dataframe tbody tr th {\n",
       "        vertical-align: top;\n",
       "    }\n",
       "\n",
       "    .dataframe thead th {\n",
       "        text-align: right;\n",
       "    }\n",
       "</style>\n",
       "<table border=\"1\" class=\"dataframe\">\n",
       "  <thead>\n",
       "    <tr style=\"text-align: right;\">\n",
       "      <th></th>\n",
       "      <th>MD</th>\n",
       "      <th>GR_1</th>\n",
       "      <th>LCD_SWE_1</th>\n",
       "      <th>LCD_SWT_1</th>\n",
       "      <th>DTCO_1</th>\n",
       "      <th>SWT_1</th>\n",
       "      <th>TVDSS_1</th>\n",
       "      <th>PHIE_1</th>\n",
       "      <th>PHIT_1</th>\n",
       "      <th>AHT20_1</th>\n",
       "      <th>AHT30_1</th>\n",
       "      <th>AHT60_1</th>\n",
       "      <th>AHT90_1</th>\n",
       "      <th>AHT90_3</th>\n",
       "      <th>VCL_1</th>\n",
       "    </tr>\n",
       "  </thead>\n",
       "  <tbody>\n",
       "    <tr>\n",
       "      <th>0</th>\n",
       "      <td>0.00000</td>\n",
       "      <td>NaN</td>\n",
       "      <td>NaN</td>\n",
       "      <td>NaN</td>\n",
       "      <td>NaN</td>\n",
       "      <td>NaN</td>\n",
       "      <td>-21.60000</td>\n",
       "      <td>NaN</td>\n",
       "      <td>NaN</td>\n",
       "      <td>NaN</td>\n",
       "      <td>NaN</td>\n",
       "      <td>NaN</td>\n",
       "      <td>NaN</td>\n",
       "      <td>NaN</td>\n",
       "      <td>NaN</td>\n",
       "    </tr>\n",
       "    <tr>\n",
       "      <th>1</th>\n",
       "      <td>0.20000</td>\n",
       "      <td>NaN</td>\n",
       "      <td>NaN</td>\n",
       "      <td>NaN</td>\n",
       "      <td>NaN</td>\n",
       "      <td>NaN</td>\n",
       "      <td>-21.40001</td>\n",
       "      <td>NaN</td>\n",
       "      <td>NaN</td>\n",
       "      <td>NaN</td>\n",
       "      <td>NaN</td>\n",
       "      <td>NaN</td>\n",
       "      <td>NaN</td>\n",
       "      <td>NaN</td>\n",
       "      <td>NaN</td>\n",
       "    </tr>\n",
       "    <tr>\n",
       "      <th>2</th>\n",
       "      <td>0.20002</td>\n",
       "      <td>NaN</td>\n",
       "      <td>NaN</td>\n",
       "      <td>NaN</td>\n",
       "      <td>NaN</td>\n",
       "      <td>NaN</td>\n",
       "      <td>-21.39999</td>\n",
       "      <td>NaN</td>\n",
       "      <td>NaN</td>\n",
       "      <td>NaN</td>\n",
       "      <td>NaN</td>\n",
       "      <td>NaN</td>\n",
       "      <td>NaN</td>\n",
       "      <td>NaN</td>\n",
       "      <td>NaN</td>\n",
       "    </tr>\n",
       "    <tr>\n",
       "      <th>3</th>\n",
       "      <td>0.40000</td>\n",
       "      <td>NaN</td>\n",
       "      <td>NaN</td>\n",
       "      <td>NaN</td>\n",
       "      <td>NaN</td>\n",
       "      <td>NaN</td>\n",
       "      <td>-21.20001</td>\n",
       "      <td>NaN</td>\n",
       "      <td>NaN</td>\n",
       "      <td>NaN</td>\n",
       "      <td>NaN</td>\n",
       "      <td>NaN</td>\n",
       "      <td>NaN</td>\n",
       "      <td>NaN</td>\n",
       "      <td>NaN</td>\n",
       "    </tr>\n",
       "    <tr>\n",
       "      <th>4</th>\n",
       "      <td>0.40003</td>\n",
       "      <td>NaN</td>\n",
       "      <td>NaN</td>\n",
       "      <td>NaN</td>\n",
       "      <td>NaN</td>\n",
       "      <td>NaN</td>\n",
       "      <td>-21.19998</td>\n",
       "      <td>NaN</td>\n",
       "      <td>NaN</td>\n",
       "      <td>NaN</td>\n",
       "      <td>NaN</td>\n",
       "      <td>NaN</td>\n",
       "      <td>NaN</td>\n",
       "      <td>NaN</td>\n",
       "      <td>NaN</td>\n",
       "    </tr>\n",
       "    <tr>\n",
       "      <th>...</th>\n",
       "      <td>...</td>\n",
       "      <td>...</td>\n",
       "      <td>...</td>\n",
       "      <td>...</td>\n",
       "      <td>...</td>\n",
       "      <td>...</td>\n",
       "      <td>...</td>\n",
       "      <td>...</td>\n",
       "      <td>...</td>\n",
       "      <td>...</td>\n",
       "      <td>...</td>\n",
       "      <td>...</td>\n",
       "      <td>...</td>\n",
       "      <td>...</td>\n",
       "      <td>...</td>\n",
       "    </tr>\n",
       "    <tr>\n",
       "      <th>182539</th>\n",
       "      <td>5856.85407</td>\n",
       "      <td>NaN</td>\n",
       "      <td>NaN</td>\n",
       "      <td>NaN</td>\n",
       "      <td>NaN</td>\n",
       "      <td>NaN</td>\n",
       "      <td>NaN</td>\n",
       "      <td>NaN</td>\n",
       "      <td>NaN</td>\n",
       "      <td>NaN</td>\n",
       "      <td>NaN</td>\n",
       "      <td>NaN</td>\n",
       "      <td>NaN</td>\n",
       "      <td>NaN</td>\n",
       "      <td>NaN</td>\n",
       "    </tr>\n",
       "    <tr>\n",
       "      <th>182540</th>\n",
       "      <td>5964.07845</td>\n",
       "      <td>NaN</td>\n",
       "      <td>NaN</td>\n",
       "      <td>NaN</td>\n",
       "      <td>NaN</td>\n",
       "      <td>NaN</td>\n",
       "      <td>NaN</td>\n",
       "      <td>NaN</td>\n",
       "      <td>NaN</td>\n",
       "      <td>NaN</td>\n",
       "      <td>NaN</td>\n",
       "      <td>NaN</td>\n",
       "      <td>NaN</td>\n",
       "      <td>NaN</td>\n",
       "      <td>NaN</td>\n",
       "    </tr>\n",
       "    <tr>\n",
       "      <th>182541</th>\n",
       "      <td>6072.22503</td>\n",
       "      <td>NaN</td>\n",
       "      <td>NaN</td>\n",
       "      <td>NaN</td>\n",
       "      <td>NaN</td>\n",
       "      <td>NaN</td>\n",
       "      <td>NaN</td>\n",
       "      <td>NaN</td>\n",
       "      <td>NaN</td>\n",
       "      <td>NaN</td>\n",
       "      <td>NaN</td>\n",
       "      <td>NaN</td>\n",
       "      <td>NaN</td>\n",
       "      <td>NaN</td>\n",
       "      <td>NaN</td>\n",
       "    </tr>\n",
       "    <tr>\n",
       "      <th>182542</th>\n",
       "      <td>6181.27421</td>\n",
       "      <td>NaN</td>\n",
       "      <td>NaN</td>\n",
       "      <td>NaN</td>\n",
       "      <td>NaN</td>\n",
       "      <td>NaN</td>\n",
       "      <td>NaN</td>\n",
       "      <td>NaN</td>\n",
       "      <td>NaN</td>\n",
       "      <td>NaN</td>\n",
       "      <td>NaN</td>\n",
       "      <td>NaN</td>\n",
       "      <td>NaN</td>\n",
       "      <td>NaN</td>\n",
       "      <td>NaN</td>\n",
       "    </tr>\n",
       "    <tr>\n",
       "      <th>182543</th>\n",
       "      <td>6291.24511</td>\n",
       "      <td>NaN</td>\n",
       "      <td>NaN</td>\n",
       "      <td>NaN</td>\n",
       "      <td>NaN</td>\n",
       "      <td>NaN</td>\n",
       "      <td>NaN</td>\n",
       "      <td>NaN</td>\n",
       "      <td>NaN</td>\n",
       "      <td>NaN</td>\n",
       "      <td>NaN</td>\n",
       "      <td>NaN</td>\n",
       "      <td>NaN</td>\n",
       "      <td>NaN</td>\n",
       "      <td>NaN</td>\n",
       "    </tr>\n",
       "  </tbody>\n",
       "</table>\n",
       "<p>182544 rows × 15 columns</p>\n",
       "</div>"
      ],
      "text/plain": [
       "                MD  GR_1  LCD_SWE_1  LCD_SWT_1  DTCO_1  SWT_1   TVDSS_1  \\\n",
       "0          0.00000   NaN        NaN        NaN     NaN    NaN -21.60000   \n",
       "1          0.20000   NaN        NaN        NaN     NaN    NaN -21.40001   \n",
       "2          0.20002   NaN        NaN        NaN     NaN    NaN -21.39999   \n",
       "3          0.40000   NaN        NaN        NaN     NaN    NaN -21.20001   \n",
       "4          0.40003   NaN        NaN        NaN     NaN    NaN -21.19998   \n",
       "...            ...   ...        ...        ...     ...    ...       ...   \n",
       "182539  5856.85407   NaN        NaN        NaN     NaN    NaN       NaN   \n",
       "182540  5964.07845   NaN        NaN        NaN     NaN    NaN       NaN   \n",
       "182541  6072.22503   NaN        NaN        NaN     NaN    NaN       NaN   \n",
       "182542  6181.27421   NaN        NaN        NaN     NaN    NaN       NaN   \n",
       "182543  6291.24511   NaN        NaN        NaN     NaN    NaN       NaN   \n",
       "\n",
       "        PHIE_1  PHIT_1  AHT20_1  AHT30_1  AHT60_1  AHT90_1  AHT90_3  VCL_1  \n",
       "0          NaN     NaN      NaN      NaN      NaN      NaN      NaN    NaN  \n",
       "1          NaN     NaN      NaN      NaN      NaN      NaN      NaN    NaN  \n",
       "2          NaN     NaN      NaN      NaN      NaN      NaN      NaN    NaN  \n",
       "3          NaN     NaN      NaN      NaN      NaN      NaN      NaN    NaN  \n",
       "4          NaN     NaN      NaN      NaN      NaN      NaN      NaN    NaN  \n",
       "...        ...     ...      ...      ...      ...      ...      ...    ...  \n",
       "182539     NaN     NaN      NaN      NaN      NaN      NaN      NaN    NaN  \n",
       "182540     NaN     NaN      NaN      NaN      NaN      NaN      NaN    NaN  \n",
       "182541     NaN     NaN      NaN      NaN      NaN      NaN      NaN    NaN  \n",
       "182542     NaN     NaN      NaN      NaN      NaN      NaN      NaN    NaN  \n",
       "182543     NaN     NaN      NaN      NaN      NaN      NaN      NaN    NaN  \n",
       "\n",
       "[182544 rows x 15 columns]"
      ]
     },
     "execution_count": 14,
     "metadata": {},
     "output_type": "execute_result"
    }
   ],
   "source": [
    "df_5_relevant"
   ]
  },
  {
   "cell_type": "code",
   "execution_count": 15,
   "id": "b969e926",
   "metadata": {},
   "outputs": [
    {
     "data": {
      "text/html": [
       "<div>\n",
       "<style scoped>\n",
       "    .dataframe tbody tr th:only-of-type {\n",
       "        vertical-align: middle;\n",
       "    }\n",
       "\n",
       "    .dataframe tbody tr th {\n",
       "        vertical-align: top;\n",
       "    }\n",
       "\n",
       "    .dataframe thead th {\n",
       "        text-align: right;\n",
       "    }\n",
       "</style>\n",
       "<table border=\"1\" class=\"dataframe\">\n",
       "  <thead>\n",
       "    <tr style=\"text-align: right;\">\n",
       "      <th></th>\n",
       "      <th>MD</th>\n",
       "      <th>GR_1</th>\n",
       "      <th>LCD_SWE_1</th>\n",
       "      <th>LCD_SWT_1</th>\n",
       "      <th>DTCO_1</th>\n",
       "      <th>SWT_1</th>\n",
       "      <th>TVDSS_1</th>\n",
       "      <th>PHIE_1</th>\n",
       "      <th>PHIT_1</th>\n",
       "      <th>AHT20_1</th>\n",
       "      <th>AHT30_1</th>\n",
       "      <th>AHT60_1</th>\n",
       "      <th>AHT90_1</th>\n",
       "      <th>AHT90_3</th>\n",
       "      <th>VCL_1</th>\n",
       "    </tr>\n",
       "  </thead>\n",
       "  <tbody>\n",
       "    <tr>\n",
       "      <th>count</th>\n",
       "      <td>182544.000000</td>\n",
       "      <td>132734.000000</td>\n",
       "      <td>129336.000000</td>\n",
       "      <td>129336.000000</td>\n",
       "      <td>131974.000000</td>\n",
       "      <td>130110.000000</td>\n",
       "      <td>182127.000000</td>\n",
       "      <td>130759.000000</td>\n",
       "      <td>130759.000000</td>\n",
       "      <td>132737.000000</td>\n",
       "      <td>132737.000000</td>\n",
       "      <td>132737.000000</td>\n",
       "      <td>132737.000000</td>\n",
       "      <td>129353.000000</td>\n",
       "      <td>130759.000000</td>\n",
       "    </tr>\n",
       "    <tr>\n",
       "      <th>mean</th>\n",
       "      <td>2563.054326</td>\n",
       "      <td>72.235722</td>\n",
       "      <td>0.936415</td>\n",
       "      <td>0.941447</td>\n",
       "      <td>92.363248</td>\n",
       "      <td>0.960931</td>\n",
       "      <td>2363.698785</td>\n",
       "      <td>0.105818</td>\n",
       "      <td>0.169571</td>\n",
       "      <td>8.083987</td>\n",
       "      <td>8.809284</td>\n",
       "      <td>9.503932</td>\n",
       "      <td>9.273310</td>\n",
       "      <td>9.393917</td>\n",
       "      <td>0.304186</td>\n",
       "    </tr>\n",
       "    <tr>\n",
       "      <th>std</th>\n",
       "      <td>1196.337226</td>\n",
       "      <td>29.199819</td>\n",
       "      <td>0.181951</td>\n",
       "      <td>0.169904</td>\n",
       "      <td>12.170939</td>\n",
       "      <td>0.143983</td>\n",
       "      <td>1084.757524</td>\n",
       "      <td>0.100995</td>\n",
       "      <td>0.070997</td>\n",
       "      <td>18.424246</td>\n",
       "      <td>24.975915</td>\n",
       "      <td>34.149229</td>\n",
       "      <td>30.102361</td>\n",
       "      <td>30.468229</td>\n",
       "      <td>0.181302</td>\n",
       "    </tr>\n",
       "    <tr>\n",
       "      <th>min</th>\n",
       "      <td>0.000000</td>\n",
       "      <td>18.220000</td>\n",
       "      <td>0.000000</td>\n",
       "      <td>0.061800</td>\n",
       "      <td>53.308800</td>\n",
       "      <td>0.072000</td>\n",
       "      <td>-21.600000</td>\n",
       "      <td>0.000100</td>\n",
       "      <td>0.000100</td>\n",
       "      <td>0.263100</td>\n",
       "      <td>0.692100</td>\n",
       "      <td>0.413900</td>\n",
       "      <td>0.290700</td>\n",
       "      <td>0.646000</td>\n",
       "      <td>0.000000</td>\n",
       "    </tr>\n",
       "    <tr>\n",
       "      <th>25%</th>\n",
       "      <td>1782.127532</td>\n",
       "      <td>40.765860</td>\n",
       "      <td>1.000000</td>\n",
       "      <td>1.000000</td>\n",
       "      <td>83.960967</td>\n",
       "      <td>1.000000</td>\n",
       "      <td>1689.013335</td>\n",
       "      <td>0.001840</td>\n",
       "      <td>0.113820</td>\n",
       "      <td>2.052940</td>\n",
       "      <td>2.021050</td>\n",
       "      <td>2.014590</td>\n",
       "      <td>2.019260</td>\n",
       "      <td>2.050850</td>\n",
       "      <td>0.119130</td>\n",
       "    </tr>\n",
       "    <tr>\n",
       "      <th>50%</th>\n",
       "      <td>2716.619630</td>\n",
       "      <td>85.547555</td>\n",
       "      <td>1.000000</td>\n",
       "      <td>1.000000</td>\n",
       "      <td>92.404465</td>\n",
       "      <td>1.000000</td>\n",
       "      <td>2491.874330</td>\n",
       "      <td>0.088230</td>\n",
       "      <td>0.146540</td>\n",
       "      <td>3.175560</td>\n",
       "      <td>3.116170</td>\n",
       "      <td>3.040660</td>\n",
       "      <td>3.040370</td>\n",
       "      <td>3.069950</td>\n",
       "      <td>0.330640</td>\n",
       "    </tr>\n",
       "    <tr>\n",
       "      <th>75%</th>\n",
       "      <td>3555.961853</td>\n",
       "      <td>96.189922</td>\n",
       "      <td>1.000000</td>\n",
       "      <td>1.000000</td>\n",
       "      <td>100.485438</td>\n",
       "      <td>1.000000</td>\n",
       "      <td>3239.461940</td>\n",
       "      <td>0.189240</td>\n",
       "      <td>0.222320</td>\n",
       "      <td>7.431820</td>\n",
       "      <td>7.475700</td>\n",
       "      <td>7.407030</td>\n",
       "      <td>7.433300</td>\n",
       "      <td>7.377470</td>\n",
       "      <td>0.479865</td>\n",
       "    </tr>\n",
       "    <tr>\n",
       "      <th>max</th>\n",
       "      <td>6291.245110</td>\n",
       "      <td>189.940000</td>\n",
       "      <td>1.000000</td>\n",
       "      <td>1.000000</td>\n",
       "      <td>135.964710</td>\n",
       "      <td>1.000000</td>\n",
       "      <td>4074.790530</td>\n",
       "      <td>0.353460</td>\n",
       "      <td>0.379850</td>\n",
       "      <td>305.695890</td>\n",
       "      <td>462.426910</td>\n",
       "      <td>881.688480</td>\n",
       "      <td>810.287720</td>\n",
       "      <td>810.287720</td>\n",
       "      <td>0.691300</td>\n",
       "    </tr>\n",
       "  </tbody>\n",
       "</table>\n",
       "</div>"
      ],
      "text/plain": [
       "                  MD           GR_1      LCD_SWE_1      LCD_SWT_1  \\\n",
       "count  182544.000000  132734.000000  129336.000000  129336.000000   \n",
       "mean     2563.054326      72.235722       0.936415       0.941447   \n",
       "std      1196.337226      29.199819       0.181951       0.169904   \n",
       "min         0.000000      18.220000       0.000000       0.061800   \n",
       "25%      1782.127532      40.765860       1.000000       1.000000   \n",
       "50%      2716.619630      85.547555       1.000000       1.000000   \n",
       "75%      3555.961853      96.189922       1.000000       1.000000   \n",
       "max      6291.245110     189.940000       1.000000       1.000000   \n",
       "\n",
       "              DTCO_1          SWT_1        TVDSS_1         PHIE_1  \\\n",
       "count  131974.000000  130110.000000  182127.000000  130759.000000   \n",
       "mean       92.363248       0.960931    2363.698785       0.105818   \n",
       "std        12.170939       0.143983    1084.757524       0.100995   \n",
       "min        53.308800       0.072000     -21.600000       0.000100   \n",
       "25%        83.960967       1.000000    1689.013335       0.001840   \n",
       "50%        92.404465       1.000000    2491.874330       0.088230   \n",
       "75%       100.485438       1.000000    3239.461940       0.189240   \n",
       "max       135.964710       1.000000    4074.790530       0.353460   \n",
       "\n",
       "              PHIT_1        AHT20_1        AHT30_1        AHT60_1  \\\n",
       "count  130759.000000  132737.000000  132737.000000  132737.000000   \n",
       "mean        0.169571       8.083987       8.809284       9.503932   \n",
       "std         0.070997      18.424246      24.975915      34.149229   \n",
       "min         0.000100       0.263100       0.692100       0.413900   \n",
       "25%         0.113820       2.052940       2.021050       2.014590   \n",
       "50%         0.146540       3.175560       3.116170       3.040660   \n",
       "75%         0.222320       7.431820       7.475700       7.407030   \n",
       "max         0.379850     305.695890     462.426910     881.688480   \n",
       "\n",
       "             AHT90_1        AHT90_3          VCL_1  \n",
       "count  132737.000000  129353.000000  130759.000000  \n",
       "mean        9.273310       9.393917       0.304186  \n",
       "std        30.102361      30.468229       0.181302  \n",
       "min         0.290700       0.646000       0.000000  \n",
       "25%         2.019260       2.050850       0.119130  \n",
       "50%         3.040370       3.069950       0.330640  \n",
       "75%         7.433300       7.377470       0.479865  \n",
       "max       810.287720     810.287720       0.691300  "
      ]
     },
     "execution_count": 15,
     "metadata": {},
     "output_type": "execute_result"
    }
   ],
   "source": [
    "df_5_relevant.describe()"
   ]
  },
  {
   "cell_type": "code",
   "execution_count": 16,
   "id": "848ae478",
   "metadata": {},
   "outputs": [
    {
     "data": {
      "text/plain": [
       "'\\n\\n\\nfig,axs=plt.subplots(1,2, figsize=(5,12), sharey=True)\\n\\nax=axs[0]\\nax.scatter(df_5_relevant[\\'GR_1\\'], df_5_relevant[\\'MD\\'],s=1)\\nax.set_xlim(0,130)\\nax.set_xlabel(\\'GR [gAPI]\\', fontsize=\\'large\\')\\nax.set_ylabel(\\'Measured Depth [mbsf]\\', fontsize=\\'large\\')\\nax.grid()\\n#ax.fill_betweenx(df_5_relevant[\\'MD\\'],df_5_relevant[\\'GR_1\\'],70,\\n#                           where=df_5_relevant[\\'GR_1\\']>70,interpolate=True,color=\\'gray\\', label=\\'shales\\')\\n#ax.fill_betweenx(df_5_relevant[\\'MD\\'],df_5_relevant[\\'GR_1\\'],70,\\n#                           where=df_5_relevant[\\'GR_1\\']<70,interpolate=True,color=\\'y\\', label=\\'sands\\')\\nax.axvline(70,color=\\'k\\',linewidth=1,linestyle=\\'--\\')\\nax.spines[\"top\"].set_position((\"axes\", 1.0))\\nax.legend()\\nax.invert_yaxis()\\n\\nax=axs[1]\\nax.scatter(df_5_relevant[\\'DTCO_1\\'], df_5_relevant[\\'MD\\'],s=1)\\nax.set_xlim(0,130)\\nax.set_xlabel(\\'DT [ft/s]\\', fontsize=\\'large\\')\\nax.grid()\\nax.spines[\"top\"].set_position((\"axes\", 1.0))\\nax.legend()\\n\\n\\n\\n'"
      ]
     },
     "execution_count": 16,
     "metadata": {},
     "output_type": "execute_result"
    }
   ],
   "source": [
    " \"\"\"\n",
    "\n",
    "\n",
    "fig,axs=plt.subplots(1,2, figsize=(5,12), sharey=True)\n",
    "\n",
    "ax=axs[0]\n",
    "ax.scatter(df_5_relevant['GR_1'], df_5_relevant['MD'],s=1)\n",
    "ax.set_xlim(0,130)\n",
    "ax.set_xlabel('GR [gAPI]', fontsize='large')\n",
    "ax.set_ylabel('Measured Depth [mbsf]', fontsize='large')\n",
    "ax.grid()\n",
    "#ax.fill_betweenx(df_5_relevant['MD'],df_5_relevant['GR_1'],70,\n",
    "#                           where=df_5_relevant['GR_1']>70,interpolate=True,color='gray', label='shales')\n",
    "#ax.fill_betweenx(df_5_relevant['MD'],df_5_relevant['GR_1'],70,\n",
    "#                           where=df_5_relevant['GR_1']<70,interpolate=True,color='y', label='sands')\n",
    "ax.axvline(70,color='k',linewidth=1,linestyle='--')\n",
    "ax.spines[\"top\"].set_position((\"axes\", 1.0))\n",
    "ax.legend()\n",
    "ax.invert_yaxis()\n",
    "\n",
    "ax=axs[1]\n",
    "ax.scatter(df_5_relevant['DTCO_1'], df_5_relevant['MD'],s=1)\n",
    "ax.set_xlim(0,130)\n",
    "ax.set_xlabel('DT [ft/s]', fontsize='large')\n",
    "ax.grid()\n",
    "ax.spines[\"top\"].set_position((\"axes\", 1.0))\n",
    "ax.legend()\n",
    "\n",
    "\n",
    "\n",
    "\"\"\"\n",
    "    \n",
    "\n",
    "\n",
    "\n",
    "\n"
   ]
  },
  {
   "cell_type": "code",
   "execution_count": 17,
   "id": "8955ba14",
   "metadata": {},
   "outputs": [
    {
     "data": {
      "text/plain": [
       "'\\n# In[19]:\\n\\n\\nfig,axs=plt.subplots(1,2, figsize=(5,8), sharey=True)\\n\\nax=axs[0]\\nax.scatter(df_5_relevant[\\'SWT_1\\'], df_5_relevant[\\'MD\\'],s=1)\\nax.set_xlim(0,1.0)\\nax.set_xlabel(\\'m3/m3\\', fontsize=\\'large\\')\\nax.grid()\\n#ax.fill_betweenx(df1[\\'MD\\'],df1[\\'SWT_1\\'],#0.25,\\n#                           where=df1[\\'SWT_1\\']>0.25,interpolate=True,color=\\'white\\', label=\\'water\\')\\n#ax.fill_betweenx(df1[\\'MD\\'],df1[\\'SWT_1\\'],0.25,\\n#                          where=df1[\\'SWT_1\\']<0.25,interpolate=True,color=\\'y\\', label=\\'oil\\')\\nax.axvline(0.25,color=\\'k\\',linewidth=1,linestyle=\\'--\\')\\nax.spines[\"top\"].set_position((\"axes\", 1.0))\\nax.legend()\\nax.invert_yaxis()\\n\\n'"
      ]
     },
     "execution_count": 17,
     "metadata": {},
     "output_type": "execute_result"
    }
   ],
   "source": [
    " \"\"\"\n",
    "# In[19]:\n",
    "\n",
    "\n",
    "fig,axs=plt.subplots(1,2, figsize=(5,8), sharey=True)\n",
    "\n",
    "ax=axs[0]\n",
    "ax.scatter(df_5_relevant['SWT_1'], df_5_relevant['MD'],s=1)\n",
    "ax.set_xlim(0,1.0)\n",
    "ax.set_xlabel('m3/m3', fontsize='large')\n",
    "ax.grid()\n",
    "#ax.fill_betweenx(df1['MD'],df1['SWT_1'],#0.25,\n",
    "#                           where=df1['SWT_1']>0.25,interpolate=True,color='white', label='water')\n",
    "#ax.fill_betweenx(df1['MD'],df1['SWT_1'],0.25,\n",
    " #                          where=df1['SWT_1']<0.25,interpolate=True,color='y', label='oil')\n",
    "ax.axvline(0.25,color='k',linewidth=1,linestyle='--')\n",
    "ax.spines[\"top\"].set_position((\"axes\", 1.0))\n",
    "ax.legend()\n",
    "ax.invert_yaxis()\n",
    "\n",
    "\"\"\""
   ]
  },
  {
   "cell_type": "code",
   "execution_count": 18,
   "id": "c5cf4377",
   "metadata": {},
   "outputs": [
    {
     "data": {
      "text/plain": [
       "\"\\nfig,axs=plt.subplots(1,2, figsize=(5,8), sharey=True)\\n\\nax=axs[0]\\nax.scatter(df_5_relevant['AHT90_1'], df_5_relevant['MD'],s=1)\\nax.set_xlim(0,1000)\\nax.set_xlabel('ohm-m', fontsize='large')\\nax.grid()\\n\""
      ]
     },
     "execution_count": 18,
     "metadata": {},
     "output_type": "execute_result"
    }
   ],
   "source": [
    "\"\"\"\n",
    "fig,axs=plt.subplots(1,2, figsize=(5,8), sharey=True)\n",
    "\n",
    "ax=axs[0]\n",
    "ax.scatter(df_5_relevant['AHT90_1'], df_5_relevant['MD'],s=1)\n",
    "ax.set_xlim(0,1000)\n",
    "ax.set_xlabel('ohm-m', fontsize='large')\n",
    "ax.grid()\n",
    "\"\"\""
   ]
  },
  {
   "cell_type": "code",
   "execution_count": 19,
   "id": "3183caf0",
   "metadata": {},
   "outputs": [],
   "source": [
    "df_5_relevant_without_NaN  = df_5_relevant.dropna()\n"
   ]
  },
  {
   "cell_type": "code",
   "execution_count": 20,
   "id": "4e7e884e",
   "metadata": {},
   "outputs": [
    {
     "data": {
      "text/plain": [
       "MD           0\n",
       "GR_1         0\n",
       "LCD_SWE_1    0\n",
       "LCD_SWT_1    0\n",
       "DTCO_1       0\n",
       "SWT_1        0\n",
       "TVDSS_1      0\n",
       "PHIE_1       0\n",
       "PHIT_1       0\n",
       "AHT20_1      0\n",
       "AHT30_1      0\n",
       "AHT60_1      0\n",
       "AHT90_1      0\n",
       "AHT90_3      0\n",
       "VCL_1        0\n",
       "dtype: int64"
      ]
     },
     "execution_count": 20,
     "metadata": {},
     "output_type": "execute_result"
    }
   ],
   "source": [
    "df_5_relevant_without_NaN.isnull().sum()"
   ]
  },
  {
   "cell_type": "markdown",
   "id": "3f27d1c8-2781-45ad-a0d2-84fa724a488a",
   "metadata": {},
   "source": [
    "Creating Water Saturation Column"
   ]
  },
  {
   "cell_type": "code",
   "execution_count": 21,
   "id": "390999f7-7a0a-4bd2-98a5-a4047262f775",
   "metadata": {},
   "outputs": [
    {
     "data": {
      "text/html": [
       "<div>\n",
       "<style scoped>\n",
       "    .dataframe tbody tr th:only-of-type {\n",
       "        vertical-align: middle;\n",
       "    }\n",
       "\n",
       "    .dataframe tbody tr th {\n",
       "        vertical-align: top;\n",
       "    }\n",
       "\n",
       "    .dataframe thead th {\n",
       "        text-align: right;\n",
       "    }\n",
       "</style>\n",
       "<table border=\"1\" class=\"dataframe\">\n",
       "  <thead>\n",
       "    <tr style=\"text-align: right;\">\n",
       "      <th></th>\n",
       "      <th>MD</th>\n",
       "      <th>GR_1</th>\n",
       "      <th>LCD_SWE_1</th>\n",
       "      <th>LCD_SWT_1</th>\n",
       "      <th>DTCO_1</th>\n",
       "      <th>SWT_1</th>\n",
       "      <th>TVDSS_1</th>\n",
       "      <th>PHIE_1</th>\n",
       "      <th>PHIT_1</th>\n",
       "      <th>AHT20_1</th>\n",
       "      <th>AHT30_1</th>\n",
       "      <th>AHT60_1</th>\n",
       "      <th>AHT90_1</th>\n",
       "      <th>AHT90_3</th>\n",
       "      <th>VCL_1</th>\n",
       "      <th>Water_Saturation</th>\n",
       "    </tr>\n",
       "  </thead>\n",
       "  <tbody>\n",
       "    <tr>\n",
       "      <th>51476</th>\n",
       "      <td>1983.33362</td>\n",
       "      <td>34.37971</td>\n",
       "      <td>1.0</td>\n",
       "      <td>1.0</td>\n",
       "      <td>118.83540</td>\n",
       "      <td>1.0</td>\n",
       "      <td>1864.93213</td>\n",
       "      <td>0.00010</td>\n",
       "      <td>0.01103</td>\n",
       "      <td>10.43210</td>\n",
       "      <td>5.47640</td>\n",
       "      <td>2.92540</td>\n",
       "      <td>3.63110</td>\n",
       "      <td>3.63110</td>\n",
       "      <td>0.06960</td>\n",
       "      <td>0</td>\n",
       "    </tr>\n",
       "    <tr>\n",
       "      <th>51477</th>\n",
       "      <td>1983.38196</td>\n",
       "      <td>34.24378</td>\n",
       "      <td>1.0</td>\n",
       "      <td>1.0</td>\n",
       "      <td>118.61725</td>\n",
       "      <td>1.0</td>\n",
       "      <td>1864.97359</td>\n",
       "      <td>0.00010</td>\n",
       "      <td>0.01096</td>\n",
       "      <td>15.66868</td>\n",
       "      <td>6.92295</td>\n",
       "      <td>3.22990</td>\n",
       "      <td>4.49049</td>\n",
       "      <td>4.49049</td>\n",
       "      <td>0.06912</td>\n",
       "      <td>0</td>\n",
       "    </tr>\n",
       "    <tr>\n",
       "      <th>51478</th>\n",
       "      <td>1983.40002</td>\n",
       "      <td>34.19299</td>\n",
       "      <td>1.0</td>\n",
       "      <td>1.0</td>\n",
       "      <td>118.53574</td>\n",
       "      <td>1.0</td>\n",
       "      <td>1864.98908</td>\n",
       "      <td>0.00010</td>\n",
       "      <td>0.01093</td>\n",
       "      <td>17.62508</td>\n",
       "      <td>7.46339</td>\n",
       "      <td>3.34366</td>\n",
       "      <td>4.81156</td>\n",
       "      <td>4.81156</td>\n",
       "      <td>0.06895</td>\n",
       "      <td>0</td>\n",
       "    </tr>\n",
       "    <tr>\n",
       "      <th>51479</th>\n",
       "      <td>1983.40003</td>\n",
       "      <td>34.19297</td>\n",
       "      <td>1.0</td>\n",
       "      <td>1.0</td>\n",
       "      <td>118.53570</td>\n",
       "      <td>1.0</td>\n",
       "      <td>1864.98909</td>\n",
       "      <td>0.00010</td>\n",
       "      <td>0.01093</td>\n",
       "      <td>17.62612</td>\n",
       "      <td>7.46367</td>\n",
       "      <td>3.34372</td>\n",
       "      <td>4.81173</td>\n",
       "      <td>4.81173</td>\n",
       "      <td>0.06895</td>\n",
       "      <td>0</td>\n",
       "    </tr>\n",
       "    <tr>\n",
       "      <th>51480</th>\n",
       "      <td>1983.44995</td>\n",
       "      <td>34.05259</td>\n",
       "      <td>1.0</td>\n",
       "      <td>1.0</td>\n",
       "      <td>118.31041</td>\n",
       "      <td>1.0</td>\n",
       "      <td>1865.03191</td>\n",
       "      <td>0.00010</td>\n",
       "      <td>0.01085</td>\n",
       "      <td>23.03391</td>\n",
       "      <td>8.95752</td>\n",
       "      <td>3.65817</td>\n",
       "      <td>5.69921</td>\n",
       "      <td>5.69921</td>\n",
       "      <td>0.06845</td>\n",
       "      <td>0</td>\n",
       "    </tr>\n",
       "    <tr>\n",
       "      <th>...</th>\n",
       "      <td>...</td>\n",
       "      <td>...</td>\n",
       "      <td>...</td>\n",
       "      <td>...</td>\n",
       "      <td>...</td>\n",
       "      <td>...</td>\n",
       "      <td>...</td>\n",
       "      <td>...</td>\n",
       "      <td>...</td>\n",
       "      <td>...</td>\n",
       "      <td>...</td>\n",
       "      <td>...</td>\n",
       "      <td>...</td>\n",
       "      <td>...</td>\n",
       "      <td>...</td>\n",
       "      <td>...</td>\n",
       "    </tr>\n",
       "    <tr>\n",
       "      <th>180757</th>\n",
       "      <td>4349.60010</td>\n",
       "      <td>32.52651</td>\n",
       "      <td>1.0</td>\n",
       "      <td>1.0</td>\n",
       "      <td>68.53925</td>\n",
       "      <td>1.0</td>\n",
       "      <td>4034.48933</td>\n",
       "      <td>0.12634</td>\n",
       "      <td>0.14026</td>\n",
       "      <td>13.33740</td>\n",
       "      <td>12.36490</td>\n",
       "      <td>10.75633</td>\n",
       "      <td>9.94561</td>\n",
       "      <td>9.94561</td>\n",
       "      <td>0.05314</td>\n",
       "      <td>0</td>\n",
       "    </tr>\n",
       "    <tr>\n",
       "      <th>180758</th>\n",
       "      <td>4349.64844</td>\n",
       "      <td>32.48136</td>\n",
       "      <td>1.0</td>\n",
       "      <td>1.0</td>\n",
       "      <td>68.52970</td>\n",
       "      <td>1.0</td>\n",
       "      <td>4034.53756</td>\n",
       "      <td>0.12541</td>\n",
       "      <td>0.13953</td>\n",
       "      <td>13.34390</td>\n",
       "      <td>12.38200</td>\n",
       "      <td>10.77210</td>\n",
       "      <td>9.96950</td>\n",
       "      <td>9.96950</td>\n",
       "      <td>0.05390</td>\n",
       "      <td>0</td>\n",
       "    </tr>\n",
       "    <tr>\n",
       "      <th>180759</th>\n",
       "      <td>4349.64990</td>\n",
       "      <td>32.48000</td>\n",
       "      <td>1.0</td>\n",
       "      <td>1.0</td>\n",
       "      <td>68.52941</td>\n",
       "      <td>1.0</td>\n",
       "      <td>4034.53902</td>\n",
       "      <td>0.12541</td>\n",
       "      <td>0.13951</td>\n",
       "      <td>13.34415</td>\n",
       "      <td>12.38257</td>\n",
       "      <td>10.77260</td>\n",
       "      <td>9.97041</td>\n",
       "      <td>9.97041</td>\n",
       "      <td>0.05386</td>\n",
       "      <td>0</td>\n",
       "    </tr>\n",
       "    <tr>\n",
       "      <th>180760</th>\n",
       "      <td>4349.65843</td>\n",
       "      <td>32.42139</td>\n",
       "      <td>1.0</td>\n",
       "      <td>1.0</td>\n",
       "      <td>68.52773</td>\n",
       "      <td>1.0</td>\n",
       "      <td>4034.54753</td>\n",
       "      <td>0.12539</td>\n",
       "      <td>0.13944</td>\n",
       "      <td>13.34563</td>\n",
       "      <td>12.38592</td>\n",
       "      <td>10.77551</td>\n",
       "      <td>9.97572</td>\n",
       "      <td>9.97572</td>\n",
       "      <td>0.05360</td>\n",
       "      <td>0</td>\n",
       "    </tr>\n",
       "    <tr>\n",
       "      <th>180761</th>\n",
       "      <td>4349.69678</td>\n",
       "      <td>32.15788</td>\n",
       "      <td>1.0</td>\n",
       "      <td>1.0</td>\n",
       "      <td>68.52015</td>\n",
       "      <td>1.0</td>\n",
       "      <td>4034.58580</td>\n",
       "      <td>0.12534</td>\n",
       "      <td>0.13909</td>\n",
       "      <td>13.35228</td>\n",
       "      <td>12.40098</td>\n",
       "      <td>10.78860</td>\n",
       "      <td>9.99958</td>\n",
       "      <td>9.99958</td>\n",
       "      <td>0.05247</td>\n",
       "      <td>0</td>\n",
       "    </tr>\n",
       "  </tbody>\n",
       "</table>\n",
       "<p>129286 rows × 16 columns</p>\n",
       "</div>"
      ],
      "text/plain": [
       "                MD      GR_1  LCD_SWE_1  LCD_SWT_1     DTCO_1  SWT_1  \\\n",
       "51476   1983.33362  34.37971        1.0        1.0  118.83540    1.0   \n",
       "51477   1983.38196  34.24378        1.0        1.0  118.61725    1.0   \n",
       "51478   1983.40002  34.19299        1.0        1.0  118.53574    1.0   \n",
       "51479   1983.40003  34.19297        1.0        1.0  118.53570    1.0   \n",
       "51480   1983.44995  34.05259        1.0        1.0  118.31041    1.0   \n",
       "...            ...       ...        ...        ...        ...    ...   \n",
       "180757  4349.60010  32.52651        1.0        1.0   68.53925    1.0   \n",
       "180758  4349.64844  32.48136        1.0        1.0   68.52970    1.0   \n",
       "180759  4349.64990  32.48000        1.0        1.0   68.52941    1.0   \n",
       "180760  4349.65843  32.42139        1.0        1.0   68.52773    1.0   \n",
       "180761  4349.69678  32.15788        1.0        1.0   68.52015    1.0   \n",
       "\n",
       "           TVDSS_1   PHIE_1   PHIT_1   AHT20_1   AHT30_1   AHT60_1  AHT90_1  \\\n",
       "51476   1864.93213  0.00010  0.01103  10.43210   5.47640   2.92540  3.63110   \n",
       "51477   1864.97359  0.00010  0.01096  15.66868   6.92295   3.22990  4.49049   \n",
       "51478   1864.98908  0.00010  0.01093  17.62508   7.46339   3.34366  4.81156   \n",
       "51479   1864.98909  0.00010  0.01093  17.62612   7.46367   3.34372  4.81173   \n",
       "51480   1865.03191  0.00010  0.01085  23.03391   8.95752   3.65817  5.69921   \n",
       "...            ...      ...      ...       ...       ...       ...      ...   \n",
       "180757  4034.48933  0.12634  0.14026  13.33740  12.36490  10.75633  9.94561   \n",
       "180758  4034.53756  0.12541  0.13953  13.34390  12.38200  10.77210  9.96950   \n",
       "180759  4034.53902  0.12541  0.13951  13.34415  12.38257  10.77260  9.97041   \n",
       "180760  4034.54753  0.12539  0.13944  13.34563  12.38592  10.77551  9.97572   \n",
       "180761  4034.58580  0.12534  0.13909  13.35228  12.40098  10.78860  9.99958   \n",
       "\n",
       "        AHT90_3    VCL_1  Water_Saturation  \n",
       "51476   3.63110  0.06960                 0  \n",
       "51477   4.49049  0.06912                 0  \n",
       "51478   4.81156  0.06895                 0  \n",
       "51479   4.81173  0.06895                 0  \n",
       "51480   5.69921  0.06845                 0  \n",
       "...         ...      ...               ...  \n",
       "180757  9.94561  0.05314                 0  \n",
       "180758  9.96950  0.05390                 0  \n",
       "180759  9.97041  0.05386                 0  \n",
       "180760  9.97572  0.05360                 0  \n",
       "180761  9.99958  0.05247                 0  \n",
       "\n",
       "[129286 rows x 16 columns]"
      ]
     },
     "execution_count": 21,
     "metadata": {},
     "output_type": "execute_result"
    }
   ],
   "source": [
    "list = []\n",
    "for i in range(len(df_5_relevant_without_NaN)):\n",
    "    list.append(0)\n",
    "#df_5_relevant_without_NaN.assign(Water_Saturation = list)\n",
    "df_5_relevant_without_NaN = df_5_relevant_without_NaN.assign(Water_Saturation = list)\n",
    "df_5_relevant_without_NaN "
   ]
  },
  {
   "cell_type": "code",
   "execution_count": 22,
   "id": "da256479-4524-49f5-8597-201592f6548b",
   "metadata": {},
   "outputs": [
    {
     "data": {
      "text/plain": [
       "MD                  0\n",
       "GR_1                0\n",
       "LCD_SWE_1           0\n",
       "LCD_SWT_1           0\n",
       "DTCO_1              0\n",
       "SWT_1               0\n",
       "TVDSS_1             0\n",
       "PHIE_1              0\n",
       "PHIT_1              0\n",
       "AHT20_1             0\n",
       "AHT30_1             0\n",
       "AHT60_1             0\n",
       "AHT90_1             0\n",
       "AHT90_3             0\n",
       "VCL_1               0\n",
       "Water_Saturation    0\n",
       "dtype: int64"
      ]
     },
     "execution_count": 22,
     "metadata": {},
     "output_type": "execute_result"
    }
   ],
   "source": [
    "df_5_relevant_without_NaN.isnull().sum()"
   ]
  },
  {
   "cell_type": "markdown",
   "id": "b7f8c53f-e4fc-4312-9ca1-81b30c345cc7",
   "metadata": {},
   "source": [
    "# Coding popular water Saturation Equations"
   ]
  },
  {
   "cell_type": "code",
   "execution_count": 23,
   "id": "cebdc8a4",
   "metadata": {},
   "outputs": [],
   "source": [
    "def Water_Saturation_Archie(Porosity, Res_Lith, Res_Fluid, a, m, n):\n",
    "   \n",
    "    numerator = (a *  Res_Fluid)\n",
    "    denominator  = (Porosity**m) * (Res_Lith)\n",
    "    check = numerator / denominator\n",
    "    ans = (check)**(1/n)\n",
    "    return ans\n"
   ]
  },
  {
   "cell_type": "code",
   "execution_count": 24,
   "id": "5902696a-9ed1-4a50-adc9-a088e759732e",
   "metadata": {},
   "outputs": [],
   "source": [
    "def Water_Saturation_Semandoux(Porosity, Res_Lith, Res_Fluid, Rsh, Vsh , a, m, n):\n",
    "    \n",
    "    archie_part = (a *  Res_Fluid) / (Porosity**m  *2) \n",
    "    shale_ratio = Vsh/Rsh\n",
    "    component = (4 * Porosity**m) / ( a *  Res_Fluid * Res_Lith)\n",
    "    ans = archie_part * (math.sqrt(shale_ratio ** 2  + component) - shale_ratio)\n",
    "    return ans"
   ]
  },
  {
   "cell_type": "code",
   "execution_count": 25,
   "id": "b1977819",
   "metadata": {},
   "outputs": [],
   "source": [
    "def Water_Saturation_Indonesia(Porosity, Res_Lith, Res_Fluid, Rsh, Vsh , a, m, n):\n",
    "    numerator = math.sqrt(1/Res_Lith)\n",
    "    denominator = (Vsh ** (1 - (0.5 * Vsh)) / math.sqrt(Rsh)) + math.sqrt((Porosity**m) / (a * Res_Fluid ))\n",
    "    ans = (numerator / denominator) ** (2 / n)\n",
    "    return ans"
   ]
  },
  {
   "cell_type": "code",
   "execution_count": 26,
   "id": "e605a2a9-4e3d-49ed-bacc-cf12caf18251",
   "metadata": {},
   "outputs": [],
   "source": [
    "def Water_Saturation_Fertl(Porosity, Res_Lith, Res_Fluid, Vsh , a, m, alpha ):\n",
    "    component = ((alpha * Vsh) / 2)\n",
    "    main = math.sqrt(((a * Res_Fluid) / Res_Lith) + component ** 2) - component\n",
    "    ans = (Porosity ** (-m / 2)) * main\n",
    "    return ans"
   ]
  },
  {
   "cell_type": "code",
   "execution_count": 27,
   "id": "7a24c252",
   "metadata": {},
   "outputs": [
    {
     "data": {
      "text/plain": [
       "51476     3.63110\n",
       "51477     4.49049\n",
       "51478     4.81156\n",
       "51479     4.81173\n",
       "51480     5.69921\n",
       "           ...   \n",
       "180757    9.94561\n",
       "180758    9.96950\n",
       "180759    9.97041\n",
       "180760    9.97572\n",
       "180761    9.99958\n",
       "Name: AHT90_3, Length: 129286, dtype: float64"
      ]
     },
     "execution_count": 27,
     "metadata": {},
     "output_type": "execute_result"
    }
   ],
   "source": [
    "df_5_relevant_without_NaN['AHT90_3']"
   ]
  },
  {
   "cell_type": "code",
   "execution_count": 28,
   "id": "1863dd98",
   "metadata": {},
   "outputs": [],
   "source": [
    "#df_5_relevant_without_NaN['GR_1'].loc[df_5_relevant_without_NaN.index[56]]"
   ]
  },
  {
   "cell_type": "code",
   "execution_count": 29,
   "id": "c616875d-ded9-4492-bb13-d76cd9bae95e",
   "metadata": {},
   "outputs": [
    {
     "data": {
      "text/plain": [
       "MD                  0\n",
       "GR_1                0\n",
       "LCD_SWE_1           0\n",
       "LCD_SWT_1           0\n",
       "DTCO_1              0\n",
       "SWT_1               0\n",
       "TVDSS_1             0\n",
       "PHIE_1              0\n",
       "PHIT_1              0\n",
       "AHT20_1             0\n",
       "AHT30_1             0\n",
       "AHT60_1             0\n",
       "AHT90_1             0\n",
       "AHT90_3             0\n",
       "VCL_1               0\n",
       "Water_Saturation    0\n",
       "dtype: int64"
      ]
     },
     "execution_count": 29,
     "metadata": {},
     "output_type": "execute_result"
    }
   ],
   "source": [
    "df_5_relevant_without_NaN.isnull().sum()"
   ]
  },
  {
   "cell_type": "code",
   "execution_count": 30,
   "id": "c0a84d27-1329-478e-bbf4-c27173510a0e",
   "metadata": {},
   "outputs": [],
   "source": [
    "x = df_5_relevant_without_NaN['Water_Saturation']"
   ]
  },
  {
   "cell_type": "code",
   "execution_count": 31,
   "id": "047c4165",
   "metadata": {},
   "outputs": [
    {
     "data": {
      "text/plain": [
       "\"\\ncutoff = 25\\nmax = [];\\nfor i in range(len(df_5_relevant_without_NaN)):\\n    #print (df_5_relevant_without_NaN['GR_1'].values[i]);\\n    if (df_5_relevant_without_NaN['GR_1'].values[i] < cutoff) and (df_5_relevant_without_NaN['VCL_1'].values[i]< 0) :\\n        df_5_relevant_without_NaN['Water_Saturation'].values[i] = Water_Saturation_Archie(Porosity=df_5_relevant_without_NaN['PHIT_1'].values[i],\\n                                                     Res_Lith=df_5_relevant_without_NaN['AHT90_3'].values[i],\\n                                                     Res_Fluid=0.2,\\n                                                     a = 2, m = 2, n= 1.8)\\n    else:\\n        \\n        df_5_relevant_without_NaN['Water_Saturation'].values[i] = Water_Saturation_Semandoux(Porosity=df_5_relevant_without_NaN['PHIT_1'].values[i],\\n                                                     Res_Lith=df_5_relevant_without_NaN['AHT90_3'].values[i],\\n                                                     Res_Fluid=0.2, Rsh = 0.646,\\n                                                     Vsh=df_5_relevant_without_NaN['VCL_1'].values[i],\\n                                                     a = 2, m = 1.5, n= 1.5)\\n\""
      ]
     },
     "execution_count": 31,
     "metadata": {},
     "output_type": "execute_result"
    }
   ],
   "source": [
    "\"\"\"\n",
    "cutoff = 25\n",
    "max = [];\n",
    "for i in range(len(df_5_relevant_without_NaN)):\n",
    "    #print (df_5_relevant_without_NaN['GR_1'].values[i]);\n",
    "    if (df_5_relevant_without_NaN['GR_1'].values[i] < cutoff) and (df_5_relevant_without_NaN['VCL_1'].values[i]< 0) :\n",
    "        df_5_relevant_without_NaN['Water_Saturation'].values[i] = Water_Saturation_Archie(Porosity=df_5_relevant_without_NaN['PHIT_1'].values[i],\n",
    "                                                     Res_Lith=df_5_relevant_without_NaN['AHT90_3'].values[i],\n",
    "                                                     Res_Fluid=0.2,\n",
    "                                                     a = 2, m = 2, n= 1.8)\n",
    "    else:\n",
    "        \n",
    "        df_5_relevant_without_NaN['Water_Saturation'].values[i] = Water_Saturation_Semandoux(Porosity=df_5_relevant_without_NaN['PHIT_1'].values[i],\n",
    "                                                     Res_Lith=df_5_relevant_without_NaN['AHT90_3'].values[i],\n",
    "                                                     Res_Fluid=0.2, Rsh = 0.646,\n",
    "                                                     Vsh=df_5_relevant_without_NaN['VCL_1'].values[i],\n",
    "                                                     a = 2, m = 1.5, n= 1.5)\n",
    "\"\"\""
   ]
  },
  {
   "cell_type": "markdown",
   "id": "f41b25e1-5a90-4bf0-a40e-53d076dfe382",
   "metadata": {},
   "source": [
    "# Updating the Water Saturation values by applying the equations"
   ]
  },
  {
   "cell_type": "markdown",
   "id": "609e0a5f-16ba-4f3a-86f1-5aaa0137db00",
   "metadata": {},
   "source": [
    "# Creating Individual Plots"
   ]
  },
  {
   "cell_type": "code",
   "execution_count": 54,
   "id": "6995fba0-e02d-43ca-a514-0ac8919129a2",
   "metadata": {},
   "outputs": [],
   "source": [
    "for i in range(len(df_5_relevant_without_NaN)):\n",
    "    df_5_relevant_without_NaN['Water_Saturation'].values[i] = Water_Saturation_Archie(Porosity=df_5_relevant_without_NaN['PHIT_1'].values[i],\n",
    "                                                     Res_Lith=df_5_relevant_without_NaN['AHT90_3'].values[i],\n",
    "                                                     Res_Fluid=0.2, \n",
    "                                                     a = 0.8, m = 1.5, n= 1.5)\n"
   ]
  },
  {
   "cell_type": "markdown",
   "id": "6baf9ff4-f8d3-4539-9833-de1ed5f4a784",
   "metadata": {},
   "source": [
    "# Archie plot"
   ]
  },
  {
   "cell_type": "code",
   "execution_count": 55,
   "id": "97d72a8e",
   "metadata": {},
   "outputs": [
    {
     "data": {
      "image/png": "[encoded data removed]",
      "text/plain": [
       "<Figure size 640x480 with 1 Axes>"
      ]
     },
     "metadata": {},
     "output_type": "display_data"
    }
   ],
   "source": [
    "\n",
    "fig, ax = plt.subplots()\n",
    "\n",
    "ax.plot(df_5_relevant_without_NaN['Water_Saturation'], df_5_relevant_without_NaN['MD']);\n",
    "ax.invert_yaxis()\n",
    "\n"
   ]
  },
  {
   "cell_type": "code",
   "execution_count": 56,
   "id": "298fc6c9-4d22-440a-b9ba-246659093dd7",
   "metadata": {},
   "outputs": [],
   "source": [
    "\n",
    "for i in range(len(df_5_relevant_without_NaN)):\n",
    "    df_5_relevant_without_NaN['Water_Saturation'].values[i] = Water_Saturation_Semandoux(Porosity=df_5_relevant_without_NaN['PHIT_1'].values[i],\n",
    "                                                     Res_Lith=df_5_relevant_without_NaN['AHT90_3'].values[i],\n",
    "                                                     Res_Fluid=0.2, Rsh = 1.68734,\n",
    "                                                     Vsh=df_5_relevant_without_NaN['VCL_1'].values[i],\n",
    "                                                     a = 0.85, m = 1.45, n= 1.45)\n"
   ]
  },
  {
   "cell_type": "markdown",
   "id": "397c7e24-da30-4cb6-a72f-a5e756f323f4",
   "metadata": {},
   "source": [
    "# Semandoux plot"
   ]
  },
  {
   "cell_type": "code",
   "execution_count": 57,
   "id": "9b06e365-419c-4e0e-84c2-9289e9fa323b",
   "metadata": {},
   "outputs": [
    {
     "data": {
      "image/png": "[encoded data removed]",
      "text/plain": [
       "<Figure size 640x480 with 1 Axes>"
      ]
     },
     "metadata": {},
     "output_type": "display_data"
    }
   ],
   "source": [
    "fig, ax = plt.subplots()\n",
    "\n",
    "ax.plot(df_5_relevant_without_NaN['Water_Saturation'], df_5_relevant_without_NaN['MD']);\n",
    "ax.invert_yaxis()"
   ]
  },
  {
   "cell_type": "code",
   "execution_count": 58,
   "id": "b556b59c-330f-4e4c-b27d-0eda65681e21",
   "metadata": {},
   "outputs": [],
   "source": [
    "\n",
    "for i in range(len(df_5_relevant_without_NaN)):\n",
    "    df_5_relevant_without_NaN['Water_Saturation'].values[i] = Water_Saturation_Indonesia(Porosity=df_5_relevant_without_NaN['PHIT_1'].values[i],\n",
    "                                                     Res_Lith=df_5_relevant_without_NaN['AHT90_3'].values[i],\n",
    "                                                     Res_Fluid=0.2, Rsh = 1.68734,\n",
    "                                                     Vsh=df_5_relevant_without_NaN['VCL_1'].values[i],\n",
    "                                                     a = 0.85, m = 1.54, n= 1.5)\n"
   ]
  },
  {
   "cell_type": "markdown",
   "id": "3e0aa87e-7f00-4135-9ba8-536dcf692be6",
   "metadata": {},
   "source": [
    "# Indonesia plot"
   ]
  },
  {
   "cell_type": "code",
   "execution_count": 59,
   "id": "5e50281b-e82c-4a71-b8ab-5d028bd7ae76",
   "metadata": {},
   "outputs": [
    {
     "data": {
      "image/png": "[encoded data removed]",
      "text/plain": [
       "<Figure size 640x480 with 1 Axes>"
      ]
     },
     "metadata": {},
     "output_type": "display_data"
    }
   ],
   "source": [
    "fig, ax = plt.subplots()\n",
    "\n",
    "ax.plot(df_5_relevant_without_NaN['Water_Saturation'], df_5_relevant_without_NaN['MD']);\n",
    "ax.invert_yaxis()"
   ]
  },
  {
   "cell_type": "code",
   "execution_count": 60,
   "id": "477465fe-e027-4a5e-a15d-dcd73a544602",
   "metadata": {},
   "outputs": [],
   "source": [
    "\n",
    "for i in range(len(df_5_relevant_without_NaN)):\n",
    "    df_5_relevant_without_NaN['Water_Saturation'].values[i] = Water_Saturation_Fertl(Porosity=df_5_relevant_without_NaN['PHIT_1'].values[i],\n",
    "                                                     Res_Lith=df_5_relevant_without_NaN['AHT90_3'].values[i],\n",
    "                                                     Res_Fluid=0.2, \n",
    "                                                     Vsh=df_5_relevant_without_NaN['VCL_1'].values[i],\n",
    "                                                     a = 0.85, m = 1.5, alpha= 0.30)\n"
   ]
  },
  {
   "cell_type": "markdown",
   "id": "4a989a7c-10be-463c-a6e0-04f6c78f45b7",
   "metadata": {},
   "source": [
    "# Fertl plot"
   ]
  },
  {
   "cell_type": "code",
   "execution_count": 61,
   "id": "4eafb7f4-e78c-4fa4-aa51-5f0f612c8816",
   "metadata": {},
   "outputs": [
    {
     "data": {
      "image/png": "[encoded data removed]",
      "text/plain": [
       "<Figure size 640x480 with 1 Axes>"
      ]
     },
     "metadata": {},
     "output_type": "display_data"
    }
   ],
   "source": [
    "fig, ax = plt.subplots()\n",
    "\n",
    "ax.plot(df_5_relevant_without_NaN['Water_Saturation'], df_5_relevant_without_NaN['MD']);\n",
    "ax.invert_yaxis()"
   ]
  },
  {
   "cell_type": "code",
   "execution_count": 106,
   "id": "d69b135b-1fcc-4944-b12b-23e0928b339b",
   "metadata": {},
   "outputs": [
    {
     "data": {
      "text/plain": [
       "1.8062463726307894"
      ]
     },
     "execution_count": 106,
     "metadata": {},
     "output_type": "execute_result"
    }
   ],
   "source": [
    "Water_Saturation(df_5_relevant_without_NaN['PHIT_1'].values[51476],\n",
    "                                                     df_5_relevant_without_NaN['AHT90_3'].values[51476],\n",
    "                                                     0.2,\n",
    "                                                     2, 1.8, 1.8)"
   ]
  },
  {
   "cell_type": "code",
   "execution_count": 170,
   "id": "e41bd3c7-385d-474a-b658-268b271e47f0",
   "metadata": {},
   "outputs": [
    {
     "data": {
      "text/plain": [
       "0.10288"
      ]
     },
     "execution_count": 170,
     "metadata": {},
     "output_type": "execute_result"
    }
   ],
   "source": [
    "df_5_relevant_without_NaN['PHIT_1'].values[120000]"
   ]
  },
  {
   "cell_type": "code",
   "execution_count": 103,
   "id": "b7909d02-59e3-4ed6-a5a0-3581de785730",
   "metadata": {},
   "outputs": [],
   "source": [
    "# Resistivity corresponding to pure shale formation\n",
    "R_sh = df_5_relevant_without_NaN['AHT90_3'].values[70967]"
   ]
  },
  {
   "cell_type": "code",
   "execution_count": null,
   "id": "c3f8632f-57b3-41cc-8332-7f2086078ea4",
   "metadata": {},
   "outputs": [],
   "source": []
  }
 ],
 "metadata": {
  "kernelspec": {
   "display_name": "Python 3 (ipykernel)",
   "language": "python",
   "name": "python3"
  },
  "language_info": {
   "codemirror_mode": {
    "name": "ipython",
    "version": 3
   },
   "file_extension": ".py",
   "mimetype": "text/x-python",
   "name": "python",
   "nbconvert_exporter": "python",
   "pygments_lexer": "ipython3",
   "version": "3.11.6"
  }
 },
 "nbformat": 4,
 "nbformat_minor": 5
}
